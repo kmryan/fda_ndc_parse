{
 "cells": [
  {
   "cell_type": "code",
   "execution_count": 2,
   "metadata": {
    "collapsed": true,
    "pycharm": {
     "name": "#%%\n"
    }
   },
   "outputs": [
    {
     "name": "stdout",
     "output_type": "stream",
     "text": [
      "<class 'pandas.core.frame.DataFrame'>\n",
      "Int64Index: 209111 entries, 0 to 209110\n",
      "Data columns (total 12 columns):\n",
      " #   Column                     Non-Null Count   Dtype \n",
      "---  ------                     --------------   ----- \n",
      " 0   PRODUCTID                  209111 non-null  object\n",
      " 1   PRODUCTNDC                 209111 non-null  object\n",
      " 2   NDCPACKAGECODE             209111 non-null  object\n",
      " 3   PACKAGEDESCRIPTION         209111 non-null  object\n",
      " 4   PROPRIETARYNAME            58022 non-null   object\n",
      " 5   PROPRIETARYNAMESUFFIX      5801 non-null    object\n",
      " 6   NONPROPRIETARYNAME         58022 non-null   object\n",
      " 7   DOSAGEFORMNAME             58022 non-null   object\n",
      " 8   SUBSTANCENAME              56831 non-null   object\n",
      " 9   ACTIVE_NUMERATOR_STRENGTH  56831 non-null   object\n",
      " 10  ACTIVE_INGRED_UNIT         56831 non-null   object\n",
      " 11  DEASCHEDULE                3113 non-null    object\n",
      "dtypes: object(12)\n",
      "memory usage: 20.7+ MB\n"
     ]
    }
   ],
   "source": [
    "import pandas as pd\n",
    "\n",
    "cols = [\n",
    "    'PRODUCTID',\n",
    "    'PRODUCTNDC',\n",
    "    'NDCPACKAGECODE',\n",
    "    'PACKAGEDESCRIPTION',\n",
    "]\n",
    "\n",
    "package = pd.read_csv('./package.txt', sep='\\t') \\\n",
    "            .loc[:, cols]\n",
    "\n",
    "cols = [\n",
    "    'PRODUCTID',\n",
    "    'PROPRIETARYNAME',\n",
    "    'PROPRIETARYNAMESUFFIX',\n",
    "    'NONPROPRIETARYNAME',\n",
    "    'DOSAGEFORMNAME',\n",
    "    'SUBSTANCENAME',\n",
    "    'ACTIVE_NUMERATOR_STRENGTH',\n",
    "    'ACTIVE_INGRED_UNIT',\n",
    "    'DEASCHEDULE'\n",
    "]\n",
    "\n",
    "product = pd.read_csv('./product.txt', sep='\\t') \\\n",
    "            .loc[:, cols]\n",
    "\n",
    "fda = pd.merge(left=package, right=product, how='left', on='PRODUCTID', suffixes=(False,False))\n",
    "\n",
    "fda.info()"
   ]
  },
  {
   "cell_type": "code",
   "execution_count": 3,
   "outputs": [],
   "source": [
    "def process_str_unit(ele):\n",
    "    if pd.isna(ele):\n",
    "        return []\n",
    "\n",
    "    elmod = [x.replace('/1','').strip() for x in ele.split(';')]\n",
    "\n",
    "    # edge case\n",
    "    if '' in elmod:\n",
    "        elmod = [x for x in elmod if x != '']\n",
    "\n",
    "    res = []\n",
    "    for x in elmod:\n",
    "        if '.' in x:\n",
    "            if x[0]=='.':\n",
    "                res.append(x.replace('.','0.'))\n",
    "            elif x.split('.')[0][-1].isnumeric():\n",
    "                res.append(x)\n",
    "            else:\n",
    "                res.append(x.replace('.','0.'))\n",
    "        else:\n",
    "            res.append(x)\n",
    "\n",
    "    return res\n",
    "\n",
    "fda['Strength_List'] = fda['ACTIVE_NUMERATOR_STRENGTH'].apply(process_str_unit)\n",
    "fda['Unit_List'] = fda['ACTIVE_INGRED_UNIT'].apply(process_str_unit)"
   ],
   "metadata": {
    "collapsed": false,
    "pycharm": {
     "name": "#%%\n"
    }
   }
  },
  {
   "cell_type": "code",
   "execution_count": 4,
   "outputs": [],
   "source": [
    "import numpy as np\n",
    "\n",
    "def build_strength(row):\n",
    "    MAX_LEN = 3\n",
    "\n",
    "    stl = row['Strength_List']\n",
    "    unl = row['Unit_List']\n",
    "\n",
    "    if len(stl) > MAX_LEN and len(unl) > MAX_LEN:\n",
    "        return np.nan\n",
    "\n",
    "    if len(stl) != len(unl):\n",
    "        print(f\"DERP!:({len(stl)}) \",end='')\n",
    "        print(stl)\n",
    "        print(f\"DORP!:({len(unl)})\",end='')\n",
    "        print(unl)\n",
    "        return\n",
    "\n",
    "    str_unit = [f'{stl[i]} {unl[i]}' for i,_ in enumerate(stl)]\n",
    "\n",
    "    return ', '.join(str_unit)\n",
    "\n",
    "fda['Strength'] = fda.apply(build_strength, axis=1)"
   ],
   "metadata": {
    "collapsed": false,
    "pycharm": {
     "name": "#%%\n"
    }
   }
  },
  {
   "cell_type": "code",
   "execution_count": 5,
   "outputs": [
    {
     "data": {
      "text/plain": "0         Diluent (Sterile Diluent) 1 mL/mL [10 Ml In 1 ...\n1         Florbetapir F 18 (Amyvid) 51 mCi/mL [30 Ml In ...\n2         Florbetapir F 18 (Amyvid) 51 mCi/mL [50 Ml In ...\n3         Flortaucipir F-18 (Tauvid) 51 mCi/mL [30 Ml In...\n4         Flortaucipir F-18 (Tauvid) 51 mCi/mL [50 Ml In...\n                                ...                        \n209106                                    [120 G In 1 Tube]\n209107                                     [30 G In 1 Tube]\n209108                                     [60 G In 1 Tube]\n209109                                      [2 G In 1 Tube]\n209110                                     [60 G In 1 Tube]\nName: repl, Length: 209111, dtype: object"
     },
     "execution_count": 5,
     "metadata": {},
     "output_type": "execute_result"
    }
   ],
   "source": [
    "def get_str(s):\n",
    "    return '' if pd.isna(s) else s.strip()\n",
    "\n",
    "def get_package_desc(s):\n",
    "    return '' if pd.isna(s) else s.split('>')[-1].strip().split('(')[0].strip().split(',')[0].strip()\n",
    "\n",
    "def build_repl_part(s):\n",
    "    return\n",
    "\n",
    "def build_repl(row):\n",
    "    prop_name = get_str(row['PROPRIETARYNAME'])\n",
    "    prop_suff = get_str(row['PROPRIETARYNAMESUFFIX'])\n",
    "    desc = get_package_desc(row['PACKAGEDESCRIPTION'])\n",
    "    strn = get_str(row['Strength'])\n",
    "    gen_name = get_str(row['NONPROPRIETARYNAME'])\n",
    "    dea = get_str(row['DEASCHEDULE'])\n",
    "\n",
    "    gen_part = f'{gen_name.title()} ' if gen_name != '' else ''\n",
    "    prop_part = (f'({prop_name.title()} {prop_suff.title()}) ' if prop_suff != '' else f'({prop_name.title()}) ') if prop_name != '' else ''\n",
    "    strn_part = f'{strn} ' if strn != '' else ''\n",
    "    dea_part = f'(Schedule {dea}) ' if dea != '' else ''\n",
    "    desc_part = f'[{desc.title()}]' if desc != '' else ''\n",
    "\n",
    "    return f'{gen_part}{prop_part}{strn_part}{dea_part}{desc_part}'\n",
    "\n",
    "fda['repl'] = fda.apply(build_repl, axis=1)\n",
    "\n",
    "fda['repl']"
   ],
   "metadata": {
    "collapsed": false,
    "pycharm": {
     "name": "#%%\n"
    }
   }
  },
  {
   "cell_type": "code",
   "execution_count": 6,
   "outputs": [
    {
     "name": "stdout",
     "output_type": "stream",
     "text": [
      "Diluent (Sterile Diluent) 1 mL/mL [10 Ml In 1 Vial]\n",
      "Florbetapir F 18 (Amyvid) 51 mCi/mL [30 Ml In 1 Vial]\n",
      "Florbetapir F 18 (Amyvid) 51 mCi/mL [50 Ml In 1 Vial]\n",
      "Flortaucipir F-18 (Tauvid) 51 mCi/mL [30 Ml In 1 Vial]\n",
      "Flortaucipir F-18 (Tauvid) 51 mCi/mL [50 Ml In 1 Vial]\n",
      "Dulaglutide (Trulicity) 0.75 mg/0.5mL [.5 Ml In 1 Syringe]\n",
      "Dulaglutide (Trulicity) 0.75 mg/0.5mL [.5 Ml In 1 Syringe]\n",
      "Dulaglutide (Trulicity) 1.5 mg/0.5mL [.5 Ml In 1 Syringe]\n",
      "Dulaglutide (Trulicity) 1.5 mg/0.5mL [.5 Ml In 1 Syringe]\n",
      "Galcanezumab (Emgality) 120 mg/mL [1 Ml In 1 Syringe]\n",
      "Galcanezumab (Emgality) 120 mg/mL [1 Ml In 1 Syringe]\n",
      "Ixekizumab (Taltz) 80 mg/mL [1 Ml In 1 Syringe]\n",
      "Ixekizumab (Taltz) 80 mg/mL [1 Ml In 1 Syringe]\n",
      "Ixekizumab (Taltz) 80 mg/mL [1 Ml In 1 Syringe]\n",
      "Ixekizumab (Taltz) 80 mg/mL [1 Ml In 1 Syringe]\n",
      "Galcanezumab (Emgality) 120 mg/mL [1 Ml In 1 Syringe]\n",
      "Selpercatinib (Retevmo) 80 mg [120 Capsule In 1 Bottle]\n",
      "Selpercatinib (Retevmo) 80 mg [60 Capsule In 1 Bottle]\n",
      "Galcanezumab (Emgality) 100 mg/mL [1 Ml In 1 Syringe]\n",
      "Atomoxetine Hydrochloride (Strattera) 10 mg [30 Capsule In 1 Bottle]\n"
     ]
    },
    {
     "data": {
      "text/plain": "0     None\n1     None\n2     None\n3     None\n4     None\n5     None\n6     None\n7     None\n8     None\n9     None\n10    None\n11    None\n12    None\n13    None\n14    None\n15    None\n16    None\n17    None\n18    None\n19    None\nName: repl, dtype: object"
     },
     "execution_count": 6,
     "metadata": {},
     "output_type": "execute_result"
    }
   ],
   "source": [
    "fda['repl'].iloc[0:20].apply(lambda x: print(x))"
   ],
   "metadata": {
    "collapsed": false,
    "pycharm": {
     "name": "#%%\n"
    }
   }
  },
  {
   "cell_type": "code",
   "execution_count": 7,
   "outputs": [],
   "source": [
    "fda.to_csv('./FDA.csv')\n"
   ],
   "metadata": {
    "collapsed": false,
    "pycharm": {
     "name": "#%%\n"
    }
   }
  }
 ],
 "metadata": {
  "kernelspec": {
   "display_name": "Python 3",
   "language": "python",
   "name": "python3"
  },
  "language_info": {
   "codemirror_mode": {
    "name": "ipython",
    "version": 2
   },
   "file_extension": ".py",
   "mimetype": "text/x-python",
   "name": "python",
   "nbconvert_exporter": "python",
   "pygments_lexer": "ipython2",
   "version": "2.7.6"
  }
 },
 "nbformat": 4,
 "nbformat_minor": 0
}